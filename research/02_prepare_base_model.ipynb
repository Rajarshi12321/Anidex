{
    "cells": [
        {
            "cell_type": "code",
            "execution_count": 1,
            "metadata": {},
            "outputs": [],
            "source": [
                "import os\n",
                "os.chdir(\"../\")"
            ]
        },
        {
            "cell_type": "code",
            "execution_count": 2,
            "metadata": {},
            "outputs": [
                {
                    "name": "stdout",
                    "output_type": "stream",
                    "text": [
                        "2.16.1\n"
                    ]
                }
            ],
            "source": [
                "import warnings\n",
                "from sklearn.exceptions import ConvergenceWarning\n",
                "warnings.filterwarnings(\"ignore\", category=ConvergenceWarning)\n",
                "warnings.simplefilter(action='ignore', category=FutureWarning)\n",
                "warnings.simplefilter(action='ignore', category=UserWarning)\n",
                "\n",
                "import itertools\n",
                "import numpy as np\n",
                "import pandas as pd\n",
                "import os\n",
                "import matplotlib.pyplot as plt\n",
                "from sklearn.preprocessing import LabelEncoder\n",
                "from sklearn.model_selection import train_test_split\n",
                "from PIL import Image\n",
                "from sklearn.metrics import classification_report, f1_score , confusion_matrix\n",
                "\n",
                "\n",
                "\n",
                "# Tensorflow Libraries\n",
                "import tensorflow as tf\n",
                "from tensorflow import keras\n",
                "from keras.layers import Dense, Dropout , BatchNormalization\n",
                "from tensorflow.keras.optimizers import Adam\n",
                "from tensorflow.keras import layers,models,Model\n",
                "# from keras.preprocessing.image import ImageDataGenerator\n",
                "# from tensorflow.keras.layers.experimental import preprocessing\n",
                "# from tensorflow.keras.callbacks import Callback, EarlyStopping, ModelCheckpoint, ReduceLROnPlateau\n",
                "from tensorflow.keras import mixed_precision\n",
                "mixed_precision.set_global_policy('mixed_float16')\n",
                "\n",
                "\n",
                "print(tf.__version__)\n"
            ]
        },
        {
            "cell_type": "code",
            "execution_count": 3,
            "metadata": {},
            "outputs": [],
            "source": [
                "from dataclasses import dataclass\n",
                "from pathlib import Path\n",
                "\n",
                "\n",
                "@dataclass(frozen=True)\n",
                "class PrepareBaseModelConfig:\n",
                "    root_dir: Path\n",
                "    base_model_path: Path\n",
                "    updated_base_model_path: Path\n",
                "    params_image_size: list\n",
                "    params_learning_rate: float\n",
                "    params_include_top: bool\n",
                "    params_weights: str\n",
                "    params_classes: int\n",
                "    params_pooling: str"
            ]
        },
        {
            "cell_type": "code",
            "execution_count": 4,
            "metadata": {},
            "outputs": [],
            "source": [
                "from anidex.constants import *\n",
                "from anidex.utils.common import read_yaml, create_directories"
            ]
        },
        {
            "cell_type": "code",
            "execution_count": 5,
            "metadata": {},
            "outputs": [
                {
                    "data": {
                        "text/plain": [
                            "WindowsPath('config/config.yaml')"
                        ]
                    },
                    "execution_count": 5,
                    "metadata": {},
                    "output_type": "execute_result"
                }
            ],
            "source": [
                "CONFIG_FILE_PATH"
            ]
        },
        {
            "cell_type": "code",
            "execution_count": 6,
            "metadata": {},
            "outputs": [],
            "source": [
                "class ConfigurationManager:\n",
                "    def __init__(\n",
                "        self,\n",
                "        config_filepath = CONFIG_FILE_PATH,\n",
                "        params_filepath = PARAMS_FILE_PATH):\n",
                "\n",
                "        self.config = read_yaml(config_filepath)\n",
                "        self.params = read_yaml(params_filepath)\n",
                "\n",
                "        create_directories([self.config.artifacts_root])\n",
                "\n",
                "    \n",
                "\n",
                "    def get_prepare_base_model_config(self) -> PrepareBaseModelConfig:\n",
                "        config = self.config.prepare_base_model\n",
                "        \n",
                "        create_directories([config.root_dir])\n",
                "\n",
                "        prepare_base_model_config = PrepareBaseModelConfig(\n",
                "            root_dir=Path(config.root_dir),\n",
                "            base_model_path=Path(config.base_model_path),\n",
                "            updated_base_model_path=Path(config.updated_base_model_path),\n",
                "            params_image_size=self.params.IMAGE_SIZE,\n",
                "            params_learning_rate=self.params.LEARNING_RATE,\n",
                "            params_include_top=self.params.INCLUDE_TOP,\n",
                "            params_weights=self.params.WEIGHTS,\n",
                "            params_classes=self.params.CLASSES,\n",
                "            params_pooling=self.params.POOLING\n",
                "        )\n",
                "\n",
                "        return prepare_base_model_config"
            ]
        },
        {
            "cell_type": "code",
            "execution_count": 7,
            "metadata": {},
            "outputs": [],
            "source": [
                "import os\n",
                "import urllib.request as request\n",
                "from zipfile import ZipFile\n",
                "import tensorflow as tf"
            ]
        },
        {
            "cell_type": "code",
            "execution_count": 8,
            "metadata": {},
            "outputs": [],
            "source": [
                "# import joblib\n",
                "# import sys\n",
                "# import numpy as np\n",
                "# import pandas as pd\n",
                "# from sklearn.compose import ColumnTransformer\n",
                "# from sklearn.pipeline import Pipeline\n",
                "# from anidex.utils.exception import CustomException\n",
                "# from anidex import logging\n",
                "# from anidex.utils.common import DropNaTransformer, FillnaTransformer, CategoricalLabelTransformer, ReplaceValueTransformer\n"
            ]
        },
        {
            "cell_type": "code",
            "execution_count": null,
            "metadata": {},
            "outputs": [],
            "source": []
        },
        {
            "cell_type": "code",
            "execution_count": 9,
            "metadata": {},
            "outputs": [],
            "source": [
                "class PrepareBaseModel:\n",
                "    def __init__(self, config: PrepareBaseModelConfig):\n",
                "        self.config = config\n",
                "        \n",
                "\n",
                "    \n",
                "    def get_base_model(self):\n",
                "        self.model = tf.keras.applications.EfficientNetB3(\n",
                "            input_shape=self.config.params_image_size,\n",
                "            weights=self.config.params_weights,\n",
                "            include_top=self.config.params_include_top,\n",
                "            pooling=self.config.params_pooling\n",
                "        )\n",
                "\n",
                "        self.save_model(path=self.config.base_model_path, model=self.model)\n",
                "\n",
                "    \n",
                "\n",
                "    @staticmethod\n",
                "    def _prepare_full_model(model, classes, freeze_all, freeze_till, learning_rate):\n",
                "        if freeze_all:\n",
                "            for layer in model.layers:\n",
                "                model.trainable = False\n",
                "        elif (freeze_till is not None) and (freeze_till > 0):\n",
                "            for layer in model.layers[:-freeze_till]:\n",
                "                model.trainable = False\n",
                "\n",
                "        # Data Augmentation Step\n",
                "        augment = tf.keras.Sequential([\n",
                "        tf.keras.layers.RandomFlip(\"horizontal\"),\n",
                "        tf.keras.layers.RandomRotation(0.15),\n",
                "        tf.keras.layers.RandomZoom(0.15),\n",
                "        tf.keras.layers.RandomContrast(0.15),\n",
                "        ], name='AugmentationLayer')\n",
                "        \n",
                "        inputs = layers.Input(shape = (224,224,3), name='inputLayer')\n",
                "        x = augment(inputs)\n",
                "        \n",
                "        pretrain_out = model(x, training = False)\n",
                "        x = layers.Dense(256)(pretrain_out)\n",
                "        x = layers.Activation(activation=\"relu\")(x) \n",
                "        x = BatchNormalization()(x)\n",
                "        x = layers.Dropout(0.45)(x)\n",
                "        x = layers.Dense(classes)(x)\n",
                "        \n",
                "        outputs = layers.Activation(activation=\"softmax\", dtype=tf.float32, name='activationLayer')(x) # mixed_precision need separated Dense and Activation layers\n",
                "        full_model = Model(inputs=inputs, outputs=outputs)\n",
                "\n",
                "        \n",
                "        # flatten_in = tf.keras.layers.Flatten()(model.output)\n",
                "        # prediction = tf.keras.layers.Dense(\n",
                "        #     units=classes,\n",
                "        #     activation=\"softmax\"\n",
                "        # )(flatten_in)\n",
                "\n",
                "        # full_model = tf.keras.models.Model(\n",
                "        #     inputs=model.input,\n",
                "        #     outputs=prediction\n",
                "        # )\n",
                "\n",
                "        # full_model.compile(\n",
                "        #     optimizer=Adam(0.0005),\n",
                "        #     loss='categorical_crossentropy',\n",
                "        #     metrics=['accuracy']\n",
                "        # )\n",
                "\n",
                "        full_model.compile(\n",
                "            optimizer=tf.keras.optimizers.Adam(learning_rate=learning_rate),\n",
                "            loss=tf.keras.losses.CategoricalCrossentropy(),\n",
                "            metrics=[\"accuracy\"]\n",
                "        )\n",
                "\n",
                "        print(full_model.summary())\n",
                "\n",
                "        return full_model\n",
                "    \n",
                "    \n",
                "    def update_base_model(self):\n",
                "        self.full_model = self._prepare_full_model(\n",
                "            model=self.model,\n",
                "            classes=self.config.params_classes,\n",
                "            freeze_all=True,\n",
                "            freeze_till=None,\n",
                "            learning_rate=self.config.params_learning_rate\n",
                "        )\n",
                "\n",
                "        self.save_model(path=self.config.updated_base_model_path, model=self.full_model)\n",
                "\n",
                "    \n",
                "        \n",
                "    @staticmethod\n",
                "    def save_model(path: Path, model: tf.keras.Model):\n",
                "        model.save(path)\n",
                "\n"
            ]
        },
        {
            "cell_type": "code",
            "execution_count": null,
            "metadata": {},
            "outputs": [],
            "source": []
        },
        {
            "cell_type": "code",
            "execution_count": 10,
            "metadata": {},
            "outputs": [
                {
                    "name": "stdout",
                    "output_type": "stream",
                    "text": [
                        "[2024-04-02 18:36:19,303: INFO: common: yaml file: config\\config.yaml loaded successfully]\n",
                        "[2024-04-02 18:36:19,313: INFO: common: yaml file: params.yaml loaded successfully]\n",
                        "[2024-04-02 18:36:19,317: INFO: common: created directory at: artifacts]\n"
                    ]
                },
                {
                    "name": "stdout",
                    "output_type": "stream",
                    "text": [
                        "[2024-04-02 18:36:19,322: INFO: common: created directory at: artifacts/prepare_base_model]\n"
                    ]
                },
                {
                    "data": {
                        "text/html": [
                            "<pre style=\"white-space:pre;overflow-x:auto;line-height:normal;font-family:Menlo,'DejaVu Sans Mono',consolas,'Courier New',monospace\"><span style=\"font-weight: bold\">Model: \"functional_2\"</span>\n",
                            "</pre>\n"
                        ],
                        "text/plain": [
                            "\u001b[1mModel: \"functional_2\"\u001b[0m\n"
                        ]
                    },
                    "metadata": {},
                    "output_type": "display_data"
                },
                {
                    "data": {
                        "text/html": [
                            "<pre style=\"white-space:pre;overflow-x:auto;line-height:normal;font-family:Menlo,'DejaVu Sans Mono',consolas,'Courier New',monospace\">┏━━━━━━━━━━━━━━━━━━━━━━━━━━━━━━━━━┳━━━━━━━━━━━━━━━━━━━━━━━━┳━━━━━━━━━━━━━━━┓\n",
                            "┃<span style=\"font-weight: bold\"> Layer (type)                    </span>┃<span style=\"font-weight: bold\"> Output Shape           </span>┃<span style=\"font-weight: bold\">       Param # </span>┃\n",
                            "┡━━━━━━━━━━━━━━━━━━━━━━━━━━━━━━━━━╇━━━━━━━━━━━━━━━━━━━━━━━━╇━━━━━━━━━━━━━━━┩\n",
                            "│ inputLayer (<span style=\"color: #0087ff; text-decoration-color: #0087ff\">InputLayer</span>)         │ (<span style=\"color: #00d7ff; text-decoration-color: #00d7ff\">None</span>, <span style=\"color: #00af00; text-decoration-color: #00af00\">224</span>, <span style=\"color: #00af00; text-decoration-color: #00af00\">224</span>, <span style=\"color: #00af00; text-decoration-color: #00af00\">3</span>)    │             <span style=\"color: #00af00; text-decoration-color: #00af00\">0</span> │\n",
                            "├─────────────────────────────────┼────────────────────────┼───────────────┤\n",
                            "│ AugmentationLayer (<span style=\"color: #0087ff; text-decoration-color: #0087ff\">Sequential</span>)  │ (<span style=\"color: #00d7ff; text-decoration-color: #00d7ff\">None</span>, <span style=\"color: #00af00; text-decoration-color: #00af00\">224</span>, <span style=\"color: #00af00; text-decoration-color: #00af00\">224</span>, <span style=\"color: #00af00; text-decoration-color: #00af00\">3</span>)    │             <span style=\"color: #00af00; text-decoration-color: #00af00\">0</span> │\n",
                            "├─────────────────────────────────┼────────────────────────┼───────────────┤\n",
                            "│ efficientnetb3 (<span style=\"color: #0087ff; text-decoration-color: #0087ff\">Functional</span>)     │ (<span style=\"color: #00d7ff; text-decoration-color: #00d7ff\">None</span>, <span style=\"color: #00af00; text-decoration-color: #00af00\">1536</span>)           │    <span style=\"color: #00af00; text-decoration-color: #00af00\">10,783,535</span> │\n",
                            "├─────────────────────────────────┼────────────────────────┼───────────────┤\n",
                            "│ dense (<span style=\"color: #0087ff; text-decoration-color: #0087ff\">Dense</span>)                   │ (<span style=\"color: #00d7ff; text-decoration-color: #00d7ff\">None</span>, <span style=\"color: #00af00; text-decoration-color: #00af00\">256</span>)            │       <span style=\"color: #00af00; text-decoration-color: #00af00\">393,472</span> │\n",
                            "├─────────────────────────────────┼────────────────────────┼───────────────┤\n",
                            "│ activation (<span style=\"color: #0087ff; text-decoration-color: #0087ff\">Activation</span>)         │ (<span style=\"color: #00d7ff; text-decoration-color: #00d7ff\">None</span>, <span style=\"color: #00af00; text-decoration-color: #00af00\">256</span>)            │             <span style=\"color: #00af00; text-decoration-color: #00af00\">0</span> │\n",
                            "├─────────────────────────────────┼────────────────────────┼───────────────┤\n",
                            "│ batch_normalization             │ (<span style=\"color: #00d7ff; text-decoration-color: #00d7ff\">None</span>, <span style=\"color: #00af00; text-decoration-color: #00af00\">256</span>)            │         <span style=\"color: #00af00; text-decoration-color: #00af00\">1,024</span> │\n",
                            "│ (<span style=\"color: #0087ff; text-decoration-color: #0087ff\">BatchNormalization</span>)            │                        │               │\n",
                            "├─────────────────────────────────┼────────────────────────┼───────────────┤\n",
                            "│ dropout (<span style=\"color: #0087ff; text-decoration-color: #0087ff\">Dropout</span>)               │ (<span style=\"color: #00d7ff; text-decoration-color: #00d7ff\">None</span>, <span style=\"color: #00af00; text-decoration-color: #00af00\">256</span>)            │             <span style=\"color: #00af00; text-decoration-color: #00af00\">0</span> │\n",
                            "├─────────────────────────────────┼────────────────────────┼───────────────┤\n",
                            "│ dense_1 (<span style=\"color: #0087ff; text-decoration-color: #0087ff\">Dense</span>)                 │ (<span style=\"color: #00d7ff; text-decoration-color: #00d7ff\">None</span>, <span style=\"color: #00af00; text-decoration-color: #00af00\">90</span>)             │        <span style=\"color: #00af00; text-decoration-color: #00af00\">23,130</span> │\n",
                            "├─────────────────────────────────┼────────────────────────┼───────────────┤\n",
                            "│ activationLayer (<span style=\"color: #0087ff; text-decoration-color: #0087ff\">Activation</span>)    │ (<span style=\"color: #00d7ff; text-decoration-color: #00d7ff\">None</span>, <span style=\"color: #00af00; text-decoration-color: #00af00\">90</span>)             │             <span style=\"color: #00af00; text-decoration-color: #00af00\">0</span> │\n",
                            "└─────────────────────────────────┴────────────────────────┴───────────────┘\n",
                            "</pre>\n"
                        ],
                        "text/plain": [
                            "┏━━━━━━━━━━━━━━━━━━━━━━━━━━━━━━━━━┳━━━━━━━━━━━━━━━━━━━━━━━━┳━━━━━━━━━━━━━━━┓\n",
                            "┃\u001b[1m \u001b[0m\u001b[1mLayer (type)                   \u001b[0m\u001b[1m \u001b[0m┃\u001b[1m \u001b[0m\u001b[1mOutput Shape          \u001b[0m\u001b[1m \u001b[0m┃\u001b[1m \u001b[0m\u001b[1m      Param #\u001b[0m\u001b[1m \u001b[0m┃\n",
                            "┡━━━━━━━━━━━━━━━━━━━━━━━━━━━━━━━━━╇━━━━━━━━━━━━━━━━━━━━━━━━╇━━━━━━━━━━━━━━━┩\n",
                            "│ inputLayer (\u001b[38;5;33mInputLayer\u001b[0m)         │ (\u001b[38;5;45mNone\u001b[0m, \u001b[38;5;34m224\u001b[0m, \u001b[38;5;34m224\u001b[0m, \u001b[38;5;34m3\u001b[0m)    │             \u001b[38;5;34m0\u001b[0m │\n",
                            "├─────────────────────────────────┼────────────────────────┼───────────────┤\n",
                            "│ AugmentationLayer (\u001b[38;5;33mSequential\u001b[0m)  │ (\u001b[38;5;45mNone\u001b[0m, \u001b[38;5;34m224\u001b[0m, \u001b[38;5;34m224\u001b[0m, \u001b[38;5;34m3\u001b[0m)    │             \u001b[38;5;34m0\u001b[0m │\n",
                            "├─────────────────────────────────┼────────────────────────┼───────────────┤\n",
                            "│ efficientnetb3 (\u001b[38;5;33mFunctional\u001b[0m)     │ (\u001b[38;5;45mNone\u001b[0m, \u001b[38;5;34m1536\u001b[0m)           │    \u001b[38;5;34m10,783,535\u001b[0m │\n",
                            "├─────────────────────────────────┼────────────────────────┼───────────────┤\n",
                            "│ dense (\u001b[38;5;33mDense\u001b[0m)                   │ (\u001b[38;5;45mNone\u001b[0m, \u001b[38;5;34m256\u001b[0m)            │       \u001b[38;5;34m393,472\u001b[0m │\n",
                            "├─────────────────────────────────┼────────────────────────┼───────────────┤\n",
                            "│ activation (\u001b[38;5;33mActivation\u001b[0m)         │ (\u001b[38;5;45mNone\u001b[0m, \u001b[38;5;34m256\u001b[0m)            │             \u001b[38;5;34m0\u001b[0m │\n",
                            "├─────────────────────────────────┼────────────────────────┼───────────────┤\n",
                            "│ batch_normalization             │ (\u001b[38;5;45mNone\u001b[0m, \u001b[38;5;34m256\u001b[0m)            │         \u001b[38;5;34m1,024\u001b[0m │\n",
                            "│ (\u001b[38;5;33mBatchNormalization\u001b[0m)            │                        │               │\n",
                            "├─────────────────────────────────┼────────────────────────┼───────────────┤\n",
                            "│ dropout (\u001b[38;5;33mDropout\u001b[0m)               │ (\u001b[38;5;45mNone\u001b[0m, \u001b[38;5;34m256\u001b[0m)            │             \u001b[38;5;34m0\u001b[0m │\n",
                            "├─────────────────────────────────┼────────────────────────┼───────────────┤\n",
                            "│ dense_1 (\u001b[38;5;33mDense\u001b[0m)                 │ (\u001b[38;5;45mNone\u001b[0m, \u001b[38;5;34m90\u001b[0m)             │        \u001b[38;5;34m23,130\u001b[0m │\n",
                            "├─────────────────────────────────┼────────────────────────┼───────────────┤\n",
                            "│ activationLayer (\u001b[38;5;33mActivation\u001b[0m)    │ (\u001b[38;5;45mNone\u001b[0m, \u001b[38;5;34m90\u001b[0m)             │             \u001b[38;5;34m0\u001b[0m │\n",
                            "└─────────────────────────────────┴────────────────────────┴───────────────┘\n"
                        ]
                    },
                    "metadata": {},
                    "output_type": "display_data"
                },
                {
                    "data": {
                        "text/html": [
                            "<pre style=\"white-space:pre;overflow-x:auto;line-height:normal;font-family:Menlo,'DejaVu Sans Mono',consolas,'Courier New',monospace\"><span style=\"font-weight: bold\"> Total params: </span><span style=\"color: #00af00; text-decoration-color: #00af00\">11,201,161</span> (42.73 MB)\n",
                            "</pre>\n"
                        ],
                        "text/plain": [
                            "\u001b[1m Total params: \u001b[0m\u001b[38;5;34m11,201,161\u001b[0m (42.73 MB)\n"
                        ]
                    },
                    "metadata": {},
                    "output_type": "display_data"
                },
                {
                    "data": {
                        "text/html": [
                            "<pre style=\"white-space:pre;overflow-x:auto;line-height:normal;font-family:Menlo,'DejaVu Sans Mono',consolas,'Courier New',monospace\"><span style=\"font-weight: bold\"> Trainable params: </span><span style=\"color: #00af00; text-decoration-color: #00af00\">417,114</span> (1.59 MB)\n",
                            "</pre>\n"
                        ],
                        "text/plain": [
                            "\u001b[1m Trainable params: \u001b[0m\u001b[38;5;34m417,114\u001b[0m (1.59 MB)\n"
                        ]
                    },
                    "metadata": {},
                    "output_type": "display_data"
                },
                {
                    "data": {
                        "text/html": [
                            "<pre style=\"white-space:pre;overflow-x:auto;line-height:normal;font-family:Menlo,'DejaVu Sans Mono',consolas,'Courier New',monospace\"><span style=\"font-weight: bold\"> Non-trainable params: </span><span style=\"color: #00af00; text-decoration-color: #00af00\">10,784,047</span> (41.14 MB)\n",
                            "</pre>\n"
                        ],
                        "text/plain": [
                            "\u001b[1m Non-trainable params: \u001b[0m\u001b[38;5;34m10,784,047\u001b[0m (41.14 MB)\n"
                        ]
                    },
                    "metadata": {},
                    "output_type": "display_data"
                },
                {
                    "name": "stdout",
                    "output_type": "stream",
                    "text": [
                        "None\n"
                    ]
                }
            ],
            "source": [
                "try:\n",
                "    config = ConfigurationManager()\n",
                "    prepare_base_model_config = config.get_prepare_base_model_config()\n",
                "    prepare_base_model = PrepareBaseModel(config=prepare_base_model_config)\n",
                "    prepare_base_model.get_base_model()\n",
                "    prepare_base_model.update_base_model()\n",
                "except Exception as e:\n",
                "    raise e"
            ]
        }
    ],
    "metadata": {
        "kernelspec": {
            "display_name": "housing",
            "language": "python",
            "name": "python3"
        },
        "language_info": {
            "codemirror_mode": {
                "name": "ipython",
                "version": 3
            },
            "file_extension": ".py",
            "mimetype": "text/x-python",
            "name": "python",
            "nbconvert_exporter": "python",
            "pygments_lexer": "ipython3",
            "version": "3.12.2"
        }
    },
    "nbformat": 4,
    "nbformat_minor": 2
}
