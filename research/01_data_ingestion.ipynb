{
    "cells": [
        {
            "cell_type": "code",
            "execution_count": 1,
            "metadata": {},
            "outputs": [],
            "source": [
                "import os\n",
                "os.chdir(\"../\")"
            ]
        },
        {
            "cell_type": "code",
            "execution_count": 2,
            "metadata": {},
            "outputs": [],
            "source": [
                "\n",
                "from dataclasses import dataclass\n",
                "from pathlib import Path\n",
                "\n",
                "\n",
                "@dataclass(frozen=True)\n",
                "class DataIngestionConfig:\n",
                "    root_dir: Path\n",
                "    source_URL: str\n",
                "    local_data_file: Path\n",
                "    unzip_dir: Path"
            ]
        },
        {
            "cell_type": "code",
            "execution_count": 6,
            "metadata": {},
            "outputs": [],
            "source": [
                "from anidex.constants import *\n",
                "from anidex.utils.common import read_yaml, create_directories"
            ]
        },
        {
            "cell_type": "code",
            "execution_count": 7,
            "metadata": {},
            "outputs": [
                {
                    "data": {
                        "text/plain": [
                            "WindowsPath('config/config.yaml')"
                        ]
                    },
                    "execution_count": 7,
                    "metadata": {},
                    "output_type": "execute_result"
                }
            ],
            "source": [
                "from anidex.constants import  CONFIG_FILE_PATH\n",
                "CONFIG_FILE_PATH"
            ]
        },
        {
            "cell_type": "code",
            "execution_count": 8,
            "metadata": {},
            "outputs": [
                {
                    "name": "stdout",
                    "output_type": "stream",
                    "text": [
                        "config\\config.yaml\n"
                    ]
                }
            ],
            "source": [
                "print(CONFIG_FILE_PATH)"
            ]
        },
        {
            "cell_type": "code",
            "execution_count": 10,
            "metadata": {},
            "outputs": [
                {
                    "name": "stdout",
                    "output_type": "stream",
                    "text": [
                        "[2024-04-02 16:47:17,726: INFO: common: yaml file: config\\config.yaml loaded successfully]\n"
                    ]
                },
                {
                    "data": {
                        "text/plain": [
                            "ConfigBox({'artifacts_root': 'artifacts', 'data_ingestion': {'root_dir': 'artifacts/data_ingestion', 'source_URL': 'https://drive.google.com/file/d/11_JAlknRN1wgNmVhwWumn8IkgXm_4phD/view?usp=sharing', 'local_data_file': 'artifacts/data_ingestion/data.zip', 'unzip_dir': 'artifacts/data_ingestion'}, 'data_preprocessing': {'root_dir': 'artifacts/data_preprocessing', 'dataset_path': 'artifacts/data_ingestion/Dataset.csv', 'preprocessor_path': 'artifacts/data_preprocessing/preprocessor.h5', 'tracked_preprocessor_path': 'preprocessor/preprocessor.pkl'}, 'training': {'root_dir': 'artifacts/training', 'training_data': 'artifacts/processed_data.csv', 'trained_model_file_path': 'artifacts/training/model.h5', 'trained_model_file_path_rent': 'artifacts/training/model_rent.h5', 'mlflow_uri': 'https://dagshub.com/Rajarshi12321/My-Sweet-Home.mlflow'}, 'recommed_data_preprocessing': {'root_dir': 'artifacts/recommed', 'dataset_path': 'artifacts/data_ingestion/Dataset.csv', 'processed_dataset_path': 'artifacts/data_preprocessed_recommend.csv', 'recommend_dataset_path': 'artifacts/recommend_data.csv', 'tracked_recommend_dataset_path': 'recommend/recommend_data.csv'}})"
                        ]
                    },
                    "execution_count": 10,
                    "metadata": {},
                    "output_type": "execute_result"
                }
            ],
            "source": [
                "read_yaml(CONFIG_FILE_PATH)"
            ]
        },
        {
            "cell_type": "code",
            "execution_count": 11,
            "metadata": {},
            "outputs": [],
            "source": [
                "class ConfigurationManager:\n",
                "    def __init__(\n",
                "        self,\n",
                "        config_filepath = CONFIG_FILE_PATH,\n",
                "        params_filepath = PARAMS_FILE_PATH):\n",
                "\n",
                "        self.config = read_yaml(config_filepath)\n",
                "        self.params = read_yaml(params_filepath)\n",
                "\n",
                "        create_directories([self.config.artifacts_root])\n",
                "\n",
                "\n",
                "    \n",
                "    def get_data_ingestion_config(self) -> DataIngestionConfig:\n",
                "        config = self.config.data_ingestion\n",
                "\n",
                "        create_directories([config.root_dir])\n",
                "\n",
                "        data_ingestion_config = DataIngestionConfig(\n",
                "            root_dir=config.root_dir,\n",
                "            source_URL=config.source_URL,\n",
                "            local_data_file=config.local_data_file,\n",
                "            unzip_dir=config.unzip_dir \n",
                "        )\n",
                "\n",
                "        return data_ingestion_config"
            ]
        },
        {
            "cell_type": "code",
            "execution_count": 12,
            "metadata": {},
            "outputs": [],
            "source": [
                "import os\n",
                "import zipfile\n",
                "import gdown\n",
                "from anidex import logger\n",
                "from anidex.utils.common import get_size"
            ]
        },
        {
            "cell_type": "code",
            "execution_count": 13,
            "metadata": {},
            "outputs": [],
            "source": [
                "class DataIngestion:\n",
                "    def __init__(self, config: DataIngestionConfig):\n",
                "        self.config = config\n",
                "\n",
                "    \n",
                "    def download_file(self)-> str:\n",
                "        '''\n",
                "        Fetch data from the url\n",
                "        '''\n",
                "\n",
                "        try: \n",
                "            dataset_url = self.config.source_URL\n",
                "            zip_download_dir = self.config.local_data_file\n",
                "            os.makedirs(\"artifacts/data_ingestion\", exist_ok=True)\n",
                "            logger.info(f\"Downloading data from {dataset_url} into file {zip_download_dir}\")\n",
                "\n",
                "            file_id = dataset_url.split(\"/\")[-2]\n",
                "            prefix = 'https://drive.google.com/uc?/export=download&id='\n",
                "            gdown.download(prefix+file_id,zip_download_dir)\n",
                "\n",
                "            logger.info(f\"Downloaded data from {dataset_url} into file {zip_download_dir}\")\n",
                "\n",
                "        except Exception as e:\n",
                "            raise e\n",
                "        \n",
                "    \n",
                "\n",
                "    def extract_zip_file(self):\n",
                "        \"\"\"\n",
                "        zip_file_path: str\n",
                "        Extracts the zip file into the data directory\n",
                "        Function returns None\n",
                "        \"\"\"\n",
                "        unzip_path = self.config.unzip_dir\n",
                "        os.makedirs(unzip_path, exist_ok=True)\n",
                "        with zipfile.ZipFile(self.config.local_data_file, 'r') as zip_ref:\n",
                "            zip_ref.extractall(unzip_path)\n"
            ]
        },
        {
            "cell_type": "code",
            "execution_count": 15,
            "metadata": {},
            "outputs": [
                {
                    "name": "stdout",
                    "output_type": "stream",
                    "text": [
                        "[2024-04-02 16:48:07,225: INFO: common: yaml file: config\\config.yaml loaded successfully]\n",
                        "[2024-04-02 16:48:07,242: INFO: common: yaml file: params.yaml loaded successfully]\n",
                        "[2024-04-02 16:48:07,246: INFO: common: created directory at: artifacts]\n",
                        "[2024-04-02 16:48:07,251: INFO: common: created directory at: artifacts/data_ingestion]\n",
                        "[2024-04-02 16:48:07,254: INFO: 1579108944: Downloading data from https://drive.google.com/file/d/11_JAlknRN1wgNmVhwWumn8IkgXm_4phD/view?usp=sharing into file artifacts/data_ingestion/data.zip]\n"
                    ]
                },
                {
                    "name": "stderr",
                    "output_type": "stream",
                    "text": [
                        "Downloading...\n",
                        "From (original): https://drive.google.com/uc?/export=download&id=11_JAlknRN1wgNmVhwWumn8IkgXm_4phD\n",
                        "From (redirected): https://drive.google.com/uc?%2Fexport=download&id=11_JAlknRN1wgNmVhwWumn8IkgXm_4phD&confirm=t&uuid=05a68d4e-a7ed-4888-9710-2ad71c9a75c1\n",
                        "To: e:\\projects\\anidex\\artifacts\\data_ingestion\\data.zip\n",
                        "100%|██████████| 688M/688M [01:20<00:00, 8.50MB/s] "
                    ]
                },
                {
                    "name": "stdout",
                    "output_type": "stream",
                    "text": [
                        "[2024-04-02 16:49:31,192: INFO: 1579108944: Downloaded data from https://drive.google.com/file/d/11_JAlknRN1wgNmVhwWumn8IkgXm_4phD/view?usp=sharing into file artifacts/data_ingestion/data.zip]\n"
                    ]
                },
                {
                    "name": "stderr",
                    "output_type": "stream",
                    "text": [
                        "\n"
                    ]
                }
            ],
            "source": [
                "try:\n",
                "    config = ConfigurationManager()\n",
                "    data_ingestion_config = config.get_data_ingestion_config()\n",
                "    data_ingestion = DataIngestion(config=data_ingestion_config)\n",
                "    data_ingestion.download_file()\n",
                "    data_ingestion.extract_zip_file()\n",
                "except Exception as e:\n",
                "    raise e\n"
            ]
        },
        {
            "cell_type": "code",
            "execution_count": null,
            "metadata": {},
            "outputs": [],
            "source": []
        }
    ],
    "metadata": {
        "kernelspec": {
            "display_name": "housing",
            "language": "python",
            "name": "python3"
        },
        "language_info": {
            "codemirror_mode": {
                "name": "ipython",
                "version": 3
            },
            "file_extension": ".py",
            "mimetype": "text/x-python",
            "name": "python",
            "nbconvert_exporter": "python",
            "pygments_lexer": "ipython3",
            "version": "3.12.2"
        }
    },
    "nbformat": 4,
    "nbformat_minor": 2
}
